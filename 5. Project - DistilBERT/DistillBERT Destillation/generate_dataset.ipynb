{
 "cells": [
  {
   "cell_type": "code",
   "execution_count": null,
   "metadata": {},
   "outputs": [],
   "source": [
    "import os\n",
    "import requests\n",
    "from zipfile import ZipFile\n",
    "import d2l\n",
    "\n",
    "# Ruta del archivo WikiText-2\n",
    "data_dir = 'wikitext-2-v1'\n",
    "zip_file_path = os.path.join(data_dir, 'wikitext-2-v1.zip')\n",
    "dump_file_path = 'dump.txt'\n",
    "\n",
    "# Descargar el archivo WikiText-2\n",
    "url, sha1_hash = d2l.DATA_HUB['wikitext-2']\n",
    "if not os.path.exists(zip_file_path) or not d2l.check_sha1(zip_file_path, sha1_hash):\n",
    "    d2l.download(url, zip_file_path, sha1_hash)\n",
    "\n",
    "# Descomprimir el archivo ZIP\n",
    "with ZipFile(zip_file_path, 'r') as zip_ref:\n",
    "    zip_ref.extractall(data_dir)\n",
    "\n",
    "# Leer el archivo de entrenamiento de WikiText-2\n",
    "train_file_path = os.path.join(data_dir, 'wikitext-2', 'wiki.train.tokens')\n",
    "with open(train_file_path, 'r', encoding='utf-8') as file:\n",
    "    train_data = file.readlines()\n",
    "\n",
    "# Crear el archivo dump.txt y escribir las secuencias de texto\n",
    "with open(dump_file_path, 'w', encoding='utf-8') as file:\n",
    "    for line in train_data:\n",
    "        line = line.strip()\n",
    "        if line:\n",
    "            file.write(line + '\\n')\n",
    "\n",
    "print(\"El archivo dump.txt se ha creado con éxito.\")\n"
   ]
  }
 ],
 "metadata": {
  "language_info": {
   "name": "python"
  },
  "orig_nbformat": 4
 },
 "nbformat": 4,
 "nbformat_minor": 2
}
