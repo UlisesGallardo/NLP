{
 "cells": [
  {
   "attachments": {},
   "cell_type": "markdown",
   "metadata": {},
   "source": [
    "# Nombre: Ulises Gallardo Rodríguez\n",
    "\n",
    "# Tarea 3 Segundo Parcial / Modelos de Lenguaje Estadísticos"
   ]
  },
  {
   "cell_type": "code",
   "execution_count": 471,
   "metadata": {},
   "outputs": [],
   "source": [
    "import numpy as np\n",
    "import nltk\n",
    "from nltk.tokenize import TweetTokenizer\n",
    "tokenizer = TweetTokenizer()\n",
    "from sklearn.model_selection import train_test_split\n",
    "from IPython import display"
   ]
  },
  {
   "attachments": {},
   "cell_type": "markdown",
   "metadata": {},
   "source": [
    "## 2.1 Preprocess dataset"
   ]
  },
  {
   "cell_type": "code",
   "execution_count": 363,
   "metadata": {},
   "outputs": [],
   "source": [
    "def get_tweets_from_file(path_corpus):\n",
    "    tr_tweet = []    \n",
    "    with open(path_corpus, \"r\") as f_corpus:\n",
    "        for tweet in f_corpus:\n",
    "            tr_tweet += [tweet]\n",
    "    return tr_tweet"
   ]
  },
  {
   "cell_type": "code",
   "execution_count": 364,
   "metadata": {},
   "outputs": [],
   "source": [
    "def define_vocabulary(corpus, size):\n",
    "    corpus_words = []\n",
    "    for doc in corpus:\n",
    "        corpus_words += tokenizer.tokenize(doc)\n",
    "    fdist = nltk.FreqDist(corpus_words)\n",
    "    V = [(fdist[key], key) for key in fdist]\n",
    "    V.sort() \n",
    "    V.reverse()\n",
    "    V = V[:size]\n",
    "    V = [word for count, word in V]\n",
    "    return V"
   ]
  },
  {
   "cell_type": "code",
   "execution_count": 453,
   "metadata": {},
   "outputs": [],
   "source": [
    "def preprocess_corpus(corpus, volcabulary_size):\n",
    "    # Make sure all tweets are in lowercase.\n",
    "    for i in range(len(corpus)):\n",
    "        corpus[i]= corpus[i].lower()\n",
    "    # Define vocabulary with the 500 most frequent words.\n",
    "    V = define_vocabulary(corpus, volcabulary_size)\n",
    "    # Rebuild corpus\n",
    "    new_corpus = []\n",
    "    for tweet in corpus:\n",
    "        words = tokenizer.tokenize(tweet)    \n",
    "        new_words = [\"<unk>\" if word not in V else word for word in words] # New lexicon with unknown words\n",
    "        new_corpus.append(new_words)\n",
    "    return new_corpus, V"
   ]
  },
  {
   "cell_type": "code",
   "execution_count": 454,
   "metadata": {},
   "outputs": [],
   "source": [
    "tr_tweet = get_tweets_from_file(\"./mex_train.txt\")"
   ]
  },
  {
   "cell_type": "code",
   "execution_count": 455,
   "metadata": {},
   "outputs": [],
   "source": [
    "tr_tweet, V = preprocess_corpus(tr_tweet, 500)"
   ]
  },
  {
   "attachments": {},
   "cell_type": "markdown",
   "metadata": {},
   "source": [
    "## 2.2 N-grams training"
   ]
  },
  {
   "cell_type": "code",
   "execution_count": 417,
   "metadata": {},
   "outputs": [],
   "source": [
    "def n_grams_counts(tr_txt, n):\n",
    "    Count = {}\n",
    "    for i in range(len(tr_txt)):\n",
    "        tweet = tr_txt[i]\n",
    "        start = []\n",
    "        end = [\" </s>\"]\n",
    "        for i in range(max(1,n-1)):\n",
    "            start.append(\"<s>\")\n",
    "        words = start+tweet+end \n",
    "        for index, word in enumerate(words[n-1:]):\n",
    "            context = word\n",
    "            for j in range(1,n):\n",
    "                context = words[(index + n -1) - j] + \" \" + context\n",
    "            if Count.get(context) is not None:\n",
    "                Count[context] += 1\n",
    "            else:\n",
    "                Count[context] = 1\n",
    "    return Count"
   ]
  },
  {
   "cell_type": "code",
   "execution_count": 437,
   "metadata": {},
   "outputs": [],
   "source": [
    "def get_probabilities(Count_n_prev_gram, Count_n_gram, n, tr_txt_size, V):\n",
    "    is_unigram = np.isscalar(Count_n_prev_gram)\n",
    "    Probablilities = {}\n",
    "\n",
    "    start = \"\"\n",
    "    for i in range(max(1,n-1)):\n",
    "        start += \"<s>\"\n",
    "        if i<n-2:\n",
    "            start+=\" \"\n",
    "            \n",
    "    if is_unigram:\n",
    "        for word, count in Count_n_gram.items():\n",
    "            Probablilities[word] = count/Count_n_prev_gram\n",
    "    else:\n",
    "        for word, count in Count_n_gram.items():\n",
    "            s = word\n",
    "            last = word.split(\" \").pop()\n",
    "            s = s[:-(len(last)+1)].rstrip()\n",
    "            count_prev = 0\n",
    "            \n",
    "            try :\n",
    "                if s == start:\n",
    "                    count_prev = tr_txt_size\n",
    "                else:\n",
    "                    count_prev = Count_n_prev_gram[s]\n",
    "                Probablilities[word] = (count + 1) / (count_prev + len(V)) # Laplace Smoothing \n",
    "            except:\n",
    "                print(s)\n",
    "    return Probablilities"
   ]
  },
  {
   "attachments": {},
   "cell_type": "markdown",
   "metadata": {},
   "source": [
    "### test with a small example"
   ]
  },
  {
   "cell_type": "code",
   "execution_count": 456,
   "metadata": {},
   "outputs": [],
   "source": [
    "tr_prueba = get_tweets_from_file(\"./prueba.txt\")\n",
    "corpus_prueba, V_prueba = preprocess_corpus(tr_prueba, 5)"
   ]
  },
  {
   "cell_type": "code",
   "execution_count": 457,
   "metadata": {},
   "outputs": [
    {
     "data": {
      "text/plain": [
       "[['i', 'am', 'sam'],\n",
       " ['sam', 'i', 'am'],\n",
       " ['i', '<unk>', 'not', 'like', '<unk>', '<unk>', '<unk>', '<unk>']]"
      ]
     },
     "execution_count": 457,
     "metadata": {},
     "output_type": "execute_result"
    }
   ],
   "source": [
    "corpus_prueba"
   ]
  },
  {
   "cell_type": "code",
   "execution_count": 458,
   "metadata": {},
   "outputs": [
    {
     "data": {
      "text/plain": [
       "['i', 'sam', 'am', 'not', 'like']"
      ]
     },
     "execution_count": 458,
     "metadata": {},
     "output_type": "execute_result"
    }
   ],
   "source": [
    "V_prueba"
   ]
  },
  {
   "cell_type": "code",
   "execution_count": 459,
   "metadata": {},
   "outputs": [],
   "source": [
    "Count_unigram = n_grams_counts(corpus_prueba, 1)\n",
    "Count_bigram = n_grams_counts(corpus_prueba, 2)\n",
    "Count_trigram = n_grams_counts(corpus_prueba, 3)"
   ]
  },
  {
   "cell_type": "code",
   "execution_count": 460,
   "metadata": {},
   "outputs": [
    {
     "data": {
      "text/plain": [
       "{'<s>': 3,\n",
       " 'i': 3,\n",
       " 'am': 2,\n",
       " 'sam': 2,\n",
       " ' </s>': 3,\n",
       " '<unk>': 5,\n",
       " 'not': 1,\n",
       " 'like': 1}"
      ]
     },
     "execution_count": 460,
     "metadata": {},
     "output_type": "execute_result"
    }
   ],
   "source": [
    "Count_unigram"
   ]
  },
  {
   "cell_type": "code",
   "execution_count": 461,
   "metadata": {},
   "outputs": [
    {
     "data": {
      "text/plain": [
       "{'<s> i': 2,\n",
       " 'i am': 2,\n",
       " 'am sam': 1,\n",
       " 'sam  </s>': 1,\n",
       " '<s> sam': 1,\n",
       " 'sam i': 1,\n",
       " 'am  </s>': 1,\n",
       " 'i <unk>': 1,\n",
       " '<unk> not': 1,\n",
       " 'not like': 1,\n",
       " 'like <unk>': 1,\n",
       " '<unk> <unk>': 3,\n",
       " '<unk>  </s>': 1}"
      ]
     },
     "execution_count": 461,
     "metadata": {},
     "output_type": "execute_result"
    }
   ],
   "source": [
    "Count_bigram"
   ]
  },
  {
   "cell_type": "code",
   "execution_count": 462,
   "metadata": {},
   "outputs": [
    {
     "data": {
      "text/plain": [
       "{'<s> i': 0.005964214711729622,\n",
       " 'i am': 0.005964214711729622,\n",
       " 'am sam': 0.00398406374501992,\n",
       " 'sam  </s>': 0.00398406374501992,\n",
       " '<s> sam': 0.003976143141153081,\n",
       " 'sam i': 0.00398406374501992,\n",
       " 'am  </s>': 0.00398406374501992,\n",
       " 'i <unk>': 0.003976143141153081,\n",
       " '<unk> not': 0.0039603960396039604,\n",
       " 'not like': 0.003992015968063872,\n",
       " 'like <unk>': 0.003992015968063872,\n",
       " '<unk> <unk>': 0.007920792079207921,\n",
       " '<unk>  </s>': 0.0039603960396039604}"
      ]
     },
     "execution_count": 462,
     "metadata": {},
     "output_type": "execute_result"
    }
   ],
   "source": [
    "get_probabilities(Count_unigram, Count_bigram, 2, len(tr_prueba), V)"
   ]
  },
  {
   "cell_type": "code",
   "execution_count": 463,
   "metadata": {},
   "outputs": [
    {
     "data": {
      "text/plain": [
       "{'<s> <s> i': 0.005964214711729622,\n",
       " '<s> i am': 0.00398406374501992,\n",
       " 'i am sam': 0.00398406374501992,\n",
       " 'am sam  </s>': 0.003992015968063872,\n",
       " '<s> <s> sam': 0.003976143141153081,\n",
       " '<s> sam i': 0.003992015968063872,\n",
       " 'sam i am': 0.003992015968063872,\n",
       " 'i am  </s>': 0.00398406374501992,\n",
       " '<s> i <unk>': 0.00398406374501992,\n",
       " 'i <unk> not': 0.003992015968063872,\n",
       " '<unk> not like': 0.003992015968063872,\n",
       " 'not like <unk>': 0.003992015968063872,\n",
       " 'like <unk> <unk>': 0.003992015968063872,\n",
       " '<unk> <unk> <unk>': 0.005964214711729622,\n",
       " '<unk> <unk>  </s>': 0.003976143141153081}"
      ]
     },
     "execution_count": 463,
     "metadata": {},
     "output_type": "execute_result"
    }
   ],
   "source": [
    "get_probabilities(Count_bigram, Count_trigram,3, len(tr_prueba), V)"
   ]
  },
  {
   "attachments": {},
   "cell_type": "markdown",
   "metadata": {},
   "source": [
    "Explicar cómo funciona el Laplace smoothing, y hablar sobre sus ventajas y desventajas, así como alternativas. así como una imagen de los valores esperados."
   ]
  },
  {
   "cell_type": "code",
   "execution_count": 475,
   "metadata": {},
   "outputs": [
    {
     "data": {
      "image/png": "[encoded data removed]",
      "text/plain": [
       "<IPython.core.display.Image object>"
      ]
     },
     "execution_count": 475,
     "metadata": {},
     "output_type": "execute_result"
    }
   ],
   "source": [
    "display.Image(\"example_bigram.PNG\")"
   ]
  },
  {
   "attachments": {},
   "cell_type": "markdown",
   "metadata": {},
   "source": [
    "### Corpus training "
   ]
  },
  {
   "cell_type": "code",
   "execution_count": 464,
   "metadata": {},
   "outputs": [],
   "source": [
    "Count_unigram = n_grams_counts(tr_tweet, 1)\n",
    "Count_bigram = n_grams_counts(tr_tweet, 2)\n",
    "Count_trigram = n_grams_counts(tr_tweet, 3)"
   ]
  },
  {
   "cell_type": "code",
   "execution_count": 465,
   "metadata": {},
   "outputs": [],
   "source": [
    "unigram =  get_probabilities(len(V), Count_bigram, 2, len(tr_tweet), V)\n",
    "bigram = get_probabilities(Count_unigram, Count_bigram, 2, len(tr_tweet), V)\n",
    "trigram = get_probabilities(Count_bigram, Count_trigram, 3 , len(tr_tweet), V)"
   ]
  },
  {
   "attachments": {},
   "cell_type": "markdown",
   "metadata": {},
   "source": [
    "## 2.3 Interpolated model"
   ]
  },
  {
   "cell_type": "code",
   "execution_count": 468,
   "metadata": {},
   "outputs": [],
   "source": [
    "tr_tweet_train, tr_tweet_test = train_test_split(tr_tweet, test_size = 0.2)\n",
    "tr_tweet_test, tr_tweet_val = train_test_split(tr_tweet_test, test_size = 0.5)"
   ]
  },
  {
   "attachments": {},
   "cell_type": "markdown",
   "metadata": {},
   "source": [
    "### perplexity"
   ]
  },
  {
   "attachments": {},
   "cell_type": "markdown",
   "metadata": {},
   "source": [
    "Perplexity is the inverse probability of the test set, normalized by the number of words. Minimizing perplexity is the same as maximizing probability"
   ]
  },
  {
   "cell_type": "code",
   "execution_count": 473,
   "metadata": {},
   "outputs": [
    {
     "data": {
      "image/png": "[encoded data removed]",
      "text/plain": [
       "<IPython.core.display.Image object>"
      ]
     },
     "execution_count": 473,
     "metadata": {},
     "output_type": "execute_result"
    }
   ],
   "source": [
    "display.Image(\"perplejidad.PNG\")"
   ]
  },
  {
   "cell_type": "code",
   "execution_count": 469,
   "metadata": {},
   "outputs": [],
   "source": [
    "lambdas = [\n",
    "    [1/3, 1/3, 1/3],\n",
    "    [.4, .4, .2],\n",
    "    [.2, .4, .4],\n",
    "    [.5, .4, .1],\n",
    "    [.1, .4, .5]\n",
    "]"
   ]
  },
  {
   "cell_type": "code",
   "execution_count": null,
   "metadata": {},
   "outputs": [],
   "source": [
    "def get_perfplexity():\n",
    "    pass"
   ]
  }
 ],
 "metadata": {
  "kernelspec": {
   "display_name": "base",
   "language": "python",
   "name": "python3"
  },
  "language_info": {
   "codemirror_mode": {
    "name": "ipython",
    "version": 3
   },
   "file_extension": ".py",
   "mimetype": "text/x-python",
   "name": "python",
   "nbconvert_exporter": "python",
   "pygments_lexer": "ipython3",
   "version": "3.9.13"
  },
  "orig_nbformat": 4
 },
 "nbformat": 4,
 "nbformat_minor": 2
}
